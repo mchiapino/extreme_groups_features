{
 "cells": [
  {
   "cell_type": "code",
   "execution_count": 1,
   "metadata": {},
   "outputs": [],
   "source": [
    "import numpy as np"
   ]
  },
  {
   "cell_type": "markdown",
   "metadata": {},
   "source": [
    "# Logistic"
   ]
  },
  {
   "cell_type": "code",
   "execution_count": 2,
   "metadata": {},
   "outputs": [],
   "source": [
    "dist_true = np.load('saves/dist_true.npy').item()\n",
    "dist_clef = np.load('saves/dist_clef.npy').item()\n",
    "nb_clef = np.load('saves/nb_clef.npy').item()\n",
    "dist_dmx = np.load('saves/dist_dmx.npy').item()\n",
    "nb_dmx = np.load('saves/nb_dmx.npy').item()\n",
    "dist_hill = np.load('saves/dist_hill.npy').item()\n",
    "nb_hill = np.load('saves/nb_hill.npy').item()\n",
    "dist_clef_as = np.load('saves/dist_clef_as.npy').item()\n",
    "nb_clef_as = np.load('saves/nb_clef_as.npy').item()\n",
    "dist_peng = np.load('saves/dist_peng.npy').item()\n",
    "nb_peng = np.load('saves/nb_peng.npy').item()"
   ]
  },
  {
   "cell_type": "code",
   "execution_count": 3,
   "metadata": {},
   "outputs": [],
   "source": [
    "as_dep = dist_true.keys()"
   ]
  },
  {
   "cell_type": "markdown",
   "metadata": {},
   "source": [
    "### CLEF"
   ]
  },
  {
   "cell_type": "code",
   "execution_count": 4,
   "metadata": {},
   "outputs": [
    {
     "name": "stdout",
     "output_type": "stream",
     "text": [
      "dep coef: 0.05\n",
      "true dist: 0.2266358266230985 0.011373281982779692\n",
      "dist res: 0.22771173338596357 0.011933564124472157\n",
      "nb faces res: 84.0 0.7745966692414834\n",
      "\n",
      "\n",
      "dep coef: 0.1\n",
      "true dist: 0.23357593313580866 0.011555102514165118\n",
      "dist res: 0.2350303999876524 0.011928877790670473\n",
      "nb faces res: 82.6 0.66332495807108\n",
      "\n",
      "\n",
      "dep coef: 0.25\n",
      "true dist: 0.2646469220882955 0.004682902873820861\n",
      "dist res: 0.26439941713809995 0.005308670962128068\n",
      "nb faces res: 82.6 0.9165151389911679\n",
      "\n",
      "\n",
      "dep coef: 0.5\n",
      "true dist: 0.3690007683678057 0.014407406102792173\n",
      "dist res: 0.36702207516933516 0.014641060016897533\n",
      "nb faces res: 93.0 1.1832159566199232\n",
      "\n",
      "\n",
      "dep coef: 0.75\n",
      "true dist: 0.5250680192304149 0.008132666303904381\n",
      "dist res: 0.5215563756145325 0.009892868021846971\n",
      "nb faces res: 132.4 3.1999999999999997\n",
      "\n",
      "\n"
     ]
    }
   ],
   "source": [
    "for dep in sorted(as_dep):\n",
    "    print 'dep coef:', dep\n",
    "    print 'true dist:', np.mean(dist_true[dep]), np.std(dist_true[dep])\n",
    "    print 'dist res:', np.mean(dist_clef[dep]), np.std(dist_clef[dep])\n",
    "    print 'nb faces res:', np.mean(nb_clef[dep]), np.std(nb_clef[dep])\n",
    "    print '\\n'"
   ]
  },
  {
   "cell_type": "markdown",
   "metadata": {},
   "source": [
    "### Hill"
   ]
  },
  {
   "cell_type": "code",
   "execution_count": 5,
   "metadata": {},
   "outputs": [
    {
     "name": "stdout",
     "output_type": "stream",
     "text": [
      "dep coef: 0.05\n",
      "true dist: 0.2266358266230985 0.011373281982779692\n",
      "dist res: 0.27206897385261103 0.013712007009689787\n",
      "nb faces res: 92.1 5.028916384272063\n",
      "\n",
      "\n",
      "dep coef: 0.1\n",
      "true dist: 0.23357593313580866 0.011555102514165118\n",
      "dist res: 0.26887471112451267 0.01572546514578243\n",
      "nb faces res: 94.5 4.4328320518603\n",
      "\n",
      "\n",
      "dep coef: 0.25\n",
      "true dist: 0.2646469220882955 0.004682902873820861\n",
      "dist res: 0.30934630583009337 0.0075058736828585515\n",
      "nb faces res: 104.1 2.3430749027719964\n",
      "\n",
      "\n",
      "dep coef: 0.5\n",
      "true dist: 0.3690007683678057 0.014407406102792173\n",
      "dist res: 0.40576659676841953 0.01502837772457618\n",
      "nb faces res: 116.0 3.4351128074635335\n",
      "\n",
      "\n",
      "dep coef: 0.75\n",
      "true dist: 0.5250680192304149 0.008132666303904381\n",
      "dist res: 0.6141230462052392 0.010888531076500734\n",
      "nb faces res: 94.7 5.0803543183522155\n",
      "\n",
      "\n"
     ]
    }
   ],
   "source": [
    "for dep in sorted(as_dep):\n",
    "    print 'dep coef:', dep\n",
    "    print 'true dist:', np.mean(dist_true[dep]), np.std(dist_true[dep])\n",
    "    print 'dist res:', np.mean(dist_hill[dep]), np.std(dist_hill[dep])\n",
    "    print 'nb faces res:', np.mean(nb_hill[dep]), np.std(nb_hill[dep])\n",
    "    print '\\n'"
   ]
  },
  {
   "cell_type": "markdown",
   "metadata": {},
   "source": [
    "### CLEF asymptotic"
   ]
  },
  {
   "cell_type": "code",
   "execution_count": 6,
   "metadata": {},
   "outputs": [
    {
     "name": "stdout",
     "output_type": "stream",
     "text": [
      "dep coef: 0.05\n",
      "true dist: 0.2266358266230985 0.011373281982779692\n",
      "dist res: 0.22732769898219024 0.01169330993113399\n",
      "nb faces res: 84.8 0.7483314773547882\n",
      "\n",
      "\n",
      "dep coef: 0.1\n",
      "true dist: 0.23357593313580866 0.011555102514165118\n",
      "dist res: 0.2354082924225434 0.012632306866631983\n",
      "nb faces res: 82.1 0.8306623862918076\n",
      "\n",
      "\n",
      "dep coef: 0.25\n",
      "true dist: 0.2646469220882955 0.004682902873820861\n",
      "dist res: 0.26381304947319034 0.00522095900824802\n",
      "nb faces res: 83.0 1.0954451150103321\n",
      "\n",
      "\n",
      "dep coef: 0.5\n",
      "true dist: 0.3690007683678057 0.014407406102792173\n",
      "dist res: 0.36663135231328264 0.014008902358545513\n",
      "nb faces res: 97.5 1.5652475842498528\n",
      "\n",
      "\n",
      "dep coef: 0.75\n",
      "true dist: 0.5250680192304149 0.008132666303904381\n",
      "dist res: 0.5427912691689869 0.009124001443383918\n",
      "nb faces res: 131.2 3.9949968710876353\n",
      "\n",
      "\n"
     ]
    }
   ],
   "source": [
    "for dep in sorted(as_dep):\n",
    "    print 'dep coef:', dep\n",
    "    print 'true dist:', np.mean(dist_true[dep]), np.std(dist_true[dep])\n",
    "    print 'dist res:', np.mean(dist_clef_as[dep]), np.std(dist_clef_as[dep])\n",
    "    print 'nb faces res:', np.mean(nb_clef_as[dep]), np.std(nb_clef_as[dep])\n",
    "    print '\\n'"
   ]
  },
  {
   "cell_type": "markdown",
   "metadata": {},
   "source": [
    "### Peng"
   ]
  },
  {
   "cell_type": "code",
   "execution_count": 7,
   "metadata": {},
   "outputs": [
    {
     "name": "stdout",
     "output_type": "stream",
     "text": [
      "dep coef: 0.05\n",
      "true dist: 0.2266358266230985 0.011373281982779692\n",
      "dist res: 0.4480255666553711 0.030487367144636658\n",
      "nb faces res: 111.0 6.29285308902091\n",
      "\n",
      "\n",
      "dep coef: 0.1\n",
      "true dist: 0.23357593313580866 0.011555102514165118\n",
      "dist res: 0.4065279959730459 0.014743970661647697\n",
      "nb faces res: 120.6 6.2\n",
      "\n",
      "\n",
      "dep coef: 0.25\n",
      "true dist: 0.2646469220882955 0.004682902873820861\n",
      "dist res: 0.4569873893613874 0.008965831857733126\n",
      "nb faces res: 127.3 6.870953354520754\n",
      "\n",
      "\n",
      "dep coef: 0.5\n",
      "true dist: 0.3690007683678057 0.014407406102792173\n",
      "dist res: 0.48546514727886636 0.013497343621296095\n",
      "nb faces res: 142.8 6.289674077406554\n",
      "\n",
      "\n",
      "dep coef: 0.75\n",
      "true dist: 0.5250680192304149 0.008132666303904381\n",
      "dist res: 0.5672038993370344 0.012344229307415062\n",
      "nb faces res: 166.0 6.587867636800241\n",
      "\n",
      "\n"
     ]
    }
   ],
   "source": [
    "for dep in sorted(as_dep):\n",
    "    print 'dep coef:', dep\n",
    "    print 'true dist:', np.mean(dist_true[dep]), np.std(dist_true[dep])\n",
    "    print 'dist res:', np.mean(dist_peng[dep]), np.std(dist_peng[dep])\n",
    "    print 'nb faces res:', np.mean(nb_peng[dep]), np.std(nb_peng[dep])\n",
    "    print '\\n'"
   ]
  },
  {
   "cell_type": "markdown",
   "metadata": {},
   "source": [
    "### DAMEX"
   ]
  },
  {
   "cell_type": "code",
   "execution_count": 8,
   "metadata": {},
   "outputs": [],
   "source": [
    "dist_dmx_res = {mass_min: {} for mass_min in [0, 1, 5, 10]}\n",
    "nb_dmx_res = {mass_min: {} for mass_min in [0, 1, 5, 10]}\n",
    "for i, mass_min in enumerate([0, 1, 5, 10]):\n",
    "    for dep in sorted(as_dep):\n",
    "        dist_dmx_res[mass_min][dep] = []\n",
    "        nb_dmx_res[mass_min][dep] = []\n",
    "        for split in dist_dmx[dep].keys():\n",
    "            dist_dmx_res[mass_min][dep].append(dist_dmx[dep][split][i])\n",
    "            nb_dmx_res[mass_min][dep].append(nb_dmx[dep][split][i])"
   ]
  },
  {
   "cell_type": "code",
   "execution_count": 9,
   "metadata": {},
   "outputs": [
    {
     "name": "stdout",
     "output_type": "stream",
     "text": [
      "dep coef: 0.05\n",
      "true dist: 0.2266358266230985 0.011373281982779692\n",
      "dist res: 0.26596403984873046 0.007044722393022207\n",
      "nb faces res: 91.0 0.7745966692414834\n",
      "\n",
      "\n",
      "dep coef: 0.1\n",
      "true dist: 0.23357593313580866 0.011555102514165118\n",
      "dist res: 0.26803158930144677 0.0070298505605011705\n",
      "nb faces res: 86.9 0.30000000000000004\n",
      "\n",
      "\n",
      "dep coef: 0.25\n",
      "true dist: 0.2646469220882955 0.004682902873820861\n",
      "dist res: 0.30822815213474425 0.005585216399598684\n",
      "nb faces res: 85.2 0.9797958971132711\n",
      "\n",
      "\n",
      "dep coef: 0.5\n",
      "true dist: 0.3690007683678057 0.014407406102792173\n",
      "dist res: 0.44789775283265254 0.008486682225087425\n",
      "nb faces res: 76.8 1.7776388834631176\n",
      "\n",
      "\n",
      "dep coef: 0.75\n",
      "true dist: 0.5250680192304149 0.008132666303904381\n",
      "dist res: 0.8908119947983615 0.012981379243491796\n",
      "nb faces res: 7.2 0.8717797887081347\n",
      "\n",
      "\n"
     ]
    }
   ],
   "source": [
    "mass_min = 5\n",
    "for dep in sorted(as_dep):\n",
    "    print 'dep coef:', dep\n",
    "    print 'true dist:', np.mean(dist_true[dep]), np.std(dist_true[dep])\n",
    "    print 'dist res:', np.mean(dist_dmx_res[mass_min][dep]), np.std(dist_dmx_res[mass_min][dep])\n",
    "    print 'nb faces res:', np.mean(nb_dmx_res[mass_min][dep]), np.std(nb_dmx_res[mass_min][dep])\n",
    "    print '\\n'"
   ]
  },
  {
   "cell_type": "markdown",
   "metadata": {},
   "source": [
    "# Hydro"
   ]
  },
  {
   "cell_type": "code",
   "execution_count": 51,
   "metadata": {},
   "outputs": [
    {
     "name": "stdout",
     "output_type": "stream",
     "text": [
      "\n"
     ]
    }
   ],
   "source": [
    "dist_clef_hydro = np.load('saves/hydro/dist_clef_hydro.npy').item()\n",
    "nb_clef_hydro = np.load('saves/hydro/nb_clef_hydro.npy').item()\n",
    "dist_dmx_hydro = np.load('saves/hydro/dist_dmx_hydro.npy').item()\n",
    "nb_dmx_hydro = np.load('saves/hydro/nb_dmx_hydro.npy').item()\n",
    "dist_hill_hydro = np.load('saves/hydro/dist_hill_hydro_2.npy').item()\n",
    "nb_hill_hydro = np.load('saves/hydro/nb_hill_hydro_2.npy').item()\n",
    "dist_clef_as_hydro = np.load('saves/hydro/dist_clef_as_hydro.npy')\n",
    "nb_clef_as_hydro = np.load('saves/hydro/nb_clef_as_hydro.npy')\n",
    "dist_peng_hydro = np.load('saves/hydro/dist_peng_hydro.npy')\n",
    "nb_peng_hydro = np.load('saves/hydro/nb_peng_hydro.npy')\n",
    "params = np.load('saves/hydro/params_2.npy').item()"
   ]
  },
  {
   "cell_type": "code",
   "execution_count": 52,
   "metadata": {},
   "outputs": [
    {
     "data": {
      "text/plain": [
       "{'R': 200,\n",
       " 'delta_hill': [0.01, 0.025, 0.05, 0.075, 0.1],\n",
       " 'delta_k': 0.3,\n",
       " 'delta_p': 0.3,\n",
       " 'eps_dmx': 0.3,\n",
       " 'kap_min': [0.15, 0.175, 0.2, 0.25, 0.3],\n",
       " 'mass_min': [0, 1, 2, 3, 5, 7, 10]}"
      ]
     },
     "execution_count": 52,
     "metadata": {},
     "output_type": "execute_result"
    }
   ],
   "source": [
    "params"
   ]
  },
  {
   "cell_type": "markdown",
   "metadata": {},
   "source": [
    "### CLEF"
   ]
  },
  {
   "cell_type": "code",
   "execution_count": 46,
   "metadata": {},
   "outputs": [
    {
     "name": "stdout",
     "output_type": "stream",
     "text": [
      "kappa min: 0.2\n",
      "dist res: 0.558434923589696 0.020407358838347153\n",
      "nb faces res: 63.1 3.1128764832546763\n",
      "\n",
      "\n",
      "kappa min: 0.225\n",
      "dist res: 0.5554441424295551 0.018140255907344353\n",
      "nb faces res: 62.3 3.4365680554879168\n",
      "\n",
      "\n",
      "kappa min: 0.25\n",
      "dist res: 0.5495266169506906 0.01444990577709317\n",
      "nb faces res: 64.8 2.315167380558045\n",
      "\n",
      "\n",
      "kappa min: 0.275\n",
      "dist res: 0.5443940539420195 0.016207687998593418\n",
      "nb faces res: 72.0 2.4899799195977463\n",
      "\n",
      "\n",
      "kappa min: 0.3\n",
      "dist res: 0.5525583673524508 0.01520463381799301\n",
      "nb faces res: 65.3 3.163858403911275\n",
      "\n",
      "\n",
      "kappa min: 0.35\n",
      "dist res: 0.5752659541873935 0.016530457433290496\n",
      "nb faces res: 51.6 1.7435595774162693\n",
      "\n",
      "\n"
     ]
    }
   ],
   "source": [
    "for kap in params['kap_min']:\n",
    "    print 'kappa min:', kap\n",
    "    print 'dist res:', np.mean(dist_clef_hydro[kap]), np.std(dist_clef_hydro[kap])\n",
    "    print 'nb faces res:', np.mean(nb_clef_hydro[kap]), np.std(nb_clef_hydro[kap])\n",
    "    print '\\n'"
   ]
  },
  {
   "cell_type": "markdown",
   "metadata": {},
   "source": [
    "### Hill"
   ]
  },
  {
   "cell_type": "code",
   "execution_count": 53,
   "metadata": {},
   "outputs": [
    {
     "name": "stdout",
     "output_type": "stream",
     "text": [
      "delta: 0.01\n",
      "dist res: 0.5329444485327419 0.018323536193987838\n",
      "nb faces res: 1273.4 170.93811745775136\n",
      "\n",
      "\n",
      "delta: 0.025\n",
      "dist res: 0.5714707949877408 0.01667397495275283\n",
      "nb faces res: 493.8 50.31262267065791\n",
      "\n",
      "\n",
      "delta: 0.05\n",
      "dist res: 0.6036471864125315 0.01997044784184639\n",
      "nb faces res: 243.2 18.274572498419765\n",
      "\n",
      "\n",
      "delta: 0.075\n",
      "dist res: 0.6208219200380706 0.016023317936894217\n",
      "nb faces res: 164.2 11.513470371699404\n",
      "\n",
      "\n",
      "delta: 0.1\n",
      "dist res: 0.6379195979815082 0.021721764678664452\n",
      "nb faces res: 128.7 7.457211275000863\n",
      "\n",
      "\n"
     ]
    }
   ],
   "source": [
    "for delta in params['delta_hill']:\n",
    "    print 'delta:', delta\n",
    "    print 'dist res:', np.mean(dist_hill_hydro[delta]), np.std(dist_hill_hydro[delta])\n",
    "    print 'nb faces res:', np.mean(nb_hill_hydro[delta]), np.std(nb_hill_hydro[delta])\n",
    "    print '\\n'"
   ]
  },
  {
   "cell_type": "markdown",
   "metadata": {},
   "source": [
    "### DAMEX"
   ]
  },
  {
   "cell_type": "code",
   "execution_count": 19,
   "metadata": {},
   "outputs": [],
   "source": [
    "dist_dmx_hydro_res = {mass_min: {} for mass_min in [0, 1, 5, 10]}\n",
    "nb_dmx_hydro_res = {mass_min: {} for mass_min in [0, 1, 5, 10]}\n",
    "for i, mass_min in enumerate([0, 1, 5, 10]):\n",
    "    dist_dmx_hydro_res[mass_min] = []\n",
    "    nb_dmx_hydro_res[mass_min] = []\n",
    "    for split in dist_dmx_hydro.keys():\n",
    "        dist_dmx_hydro_res[mass_min].append(dist_dmx_hydro[split][i])\n",
    "        nb_dmx_hydro_res[mass_min].append(nb_dmx_hydro[split][i])"
   ]
  },
  {
   "cell_type": "code",
   "execution_count": 48,
   "metadata": {},
   "outputs": [
    {
     "name": "stdout",
     "output_type": "stream",
     "text": [
      "mass min: 0\n",
      "dist res: 0.2966077916354762 0.007832247276067909\n",
      "nb faces res: 1999.2 8.255906976220118\n",
      "\n",
      "\n",
      "mass min: 1\n",
      "dist res: 0.5359438542058201 0.020335591906699597\n",
      "nb faces res: 90.88888888888889 2.0245407953653998\n",
      "\n",
      "\n",
      "mass min: 2\n",
      "dist res: 0.6641772498071966 0.0143304357923328\n",
      "nb faces res: 44.125 1.3635890143294642\n",
      "\n",
      "\n",
      "mass min: 3\n",
      "dist res: 0.7137182953501596 0.025835055036678347\n",
      "nb faces res: 26.571428571428573 1.5907898179514348\n",
      "\n",
      "\n",
      "mass min: 5\n",
      "dist res: 0.7494484378346842 0.031856840738321276\n",
      "nb faces res: 15.8 0.9797958971132713\n",
      "\n",
      "\n",
      "mass min: 7\n",
      "dist res: 0.8077594219895894 0.01785919957633549\n",
      "nb faces res: 10.0 0.816496580927726\n",
      "\n",
      "\n",
      "mass min: 10\n",
      "dist res: 0.8799936429207446 0.01974089759362783\n",
      "nb faces res: 4.5 1.4317821063276353\n",
      "\n",
      "\n"
     ]
    }
   ],
   "source": [
    "for mass_min in params['mass_min']:\n",
    "    print 'mass min:', mass_min\n",
    "    print 'dist res:', np.mean(dist_dmx_hydro[mass_min]), np.std(dist_dmx_hydro[mass_min])\n",
    "    print 'nb faces res:', np.mean(nb_dmx_hydro[mass_min]), np.std(nb_dmx_hydro[mass_min])\n",
    "    print '\\n'"
   ]
  },
  {
   "cell_type": "markdown",
   "metadata": {},
   "source": [
    "### Peng"
   ]
  },
  {
   "cell_type": "code",
   "execution_count": 42,
   "metadata": {},
   "outputs": [
    {
     "name": "stdout",
     "output_type": "stream",
     "text": [
      "dist res: nan nan\n",
      "nb faces res: nan nan\n"
     ]
    },
    {
     "name": "stderr",
     "output_type": "stream",
     "text": [
      "/home/mael/.local/lib/python2.7/site-packages/numpy/core/fromnumeric.py:2920: RuntimeWarning: Mean of empty slice.\n",
      "  out=out, **kwargs)\n",
      "/home/mael/.local/lib/python2.7/site-packages/numpy/core/_methods.py:85: RuntimeWarning: invalid value encountered in double_scalars\n",
      "  ret = ret.dtype.type(ret / rcount)\n",
      "/home/mael/.local/lib/python2.7/site-packages/numpy/core/_methods.py:140: RuntimeWarning: Degrees of freedom <= 0 for slice\n",
      "  keepdims=keepdims)\n",
      "/home/mael/.local/lib/python2.7/site-packages/numpy/core/_methods.py:110: RuntimeWarning: invalid value encountered in true_divide\n",
      "  arrmean, rcount, out=arrmean, casting='unsafe', subok=False)\n",
      "/home/mael/.local/lib/python2.7/site-packages/numpy/core/_methods.py:132: RuntimeWarning: invalid value encountered in double_scalars\n",
      "  ret = ret.dtype.type(ret / rcount)\n"
     ]
    }
   ],
   "source": [
    "print 'dist res:', np.mean(dist_peng_hydro), np.std(dist_peng_hydro)\n",
    "print 'nb faces res:', np.mean(nb_peng_hydro), np.std(nb_peng_hydro)"
   ]
  },
  {
   "cell_type": "markdown",
   "metadata": {},
   "source": [
    "### CLEF asymptotic"
   ]
  },
  {
   "cell_type": "code",
   "execution_count": 43,
   "metadata": {},
   "outputs": [
    {
     "name": "stdout",
     "output_type": "stream",
     "text": [
      "dist res: nan nan\n",
      "nb faces res: nan nan\n"
     ]
    }
   ],
   "source": [
    "print 'dist res:', np.mean(dist_clef_as_hydro), np.std(dist_clef_as_hydro)\n",
    "print 'nb faces res:', np.mean(nb_clef_as_hydro), np.std(nb_clef_as_hydro)"
   ]
  }
 ],
 "metadata": {
  "kernelspec": {
   "display_name": "Python 2",
   "language": "python",
   "name": "python2"
  },
  "language_info": {
   "codemirror_mode": {
    "name": "ipython",
    "version": 2
   },
   "file_extension": ".py",
   "mimetype": "text/x-python",
   "name": "python",
   "nbconvert_exporter": "python",
   "pygments_lexer": "ipython2",
   "version": "2.7.15rc1"
  }
 },
 "nbformat": 4,
 "nbformat_minor": 2
}

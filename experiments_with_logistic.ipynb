{
 "cells": [
  {
   "cell_type": "code",
   "execution_count": 1,
   "metadata": {},
   "outputs": [],
   "source": [
    "# Imports\n",
    "import numpy as np\n",
    "%matplotlib inline\n",
    "import matplotlib.pyplot as plt\n",
    "\n",
    "from sklearn.model_selection import train_test_split\n",
    "\n",
    "import logistic as lgtc\n",
    "import clef as clf\n",
    "import hill\n",
    "import damex as dmx\n",
    "import peng as pg\n",
    "import clef_asymptotic as clf_as\n",
    "import utilities as ut"
   ]
  },
  {
   "cell_type": "markdown",
   "metadata": {},
   "source": [
    "# Generate data"
   ]
  },
  {
   "cell_type": "code",
   "execution_count": 2,
   "metadata": {},
   "outputs": [],
   "source": [
    "dim = 100\n",
    "nb_faces = 80\n",
    "faces = ut.gen_random_faces(dim, nb_faces)  # generate random subsets of {1,...,d}"
   ]
  },
  {
   "cell_type": "code",
   "execution_count": 3,
   "metadata": {},
   "outputs": [],
   "source": [
    "n = int(2e4)  # sample number\n",
    "as_dep = 0.5  # dependence coefficient\n",
    "X = lgtc.asym_logistic(dim, faces, n, as_dep)\n",
    "V = ut.rank_transformation(X)  # standardize each marginal to pareto distribution"
   ]
  },
  {
   "cell_type": "markdown",
   "metadata": {},
   "source": [
    "# Split train/test"
   ]
  },
  {
   "cell_type": "code",
   "execution_count": 4,
   "metadata": {},
   "outputs": [],
   "source": [
    "V_train, V_test = train_test_split(V, test_size=0.1)\n",
    "n_train, n_test = V_train.shape[0], V_test.shape[0]"
   ]
  },
  {
   "cell_type": "markdown",
   "metadata": {},
   "source": [
    "## Extreme points"
   ]
  },
  {
   "cell_type": "code",
   "execution_count": 5,
   "metadata": {},
   "outputs": [
    {
     "name": "stdout",
     "output_type": "stream",
     "text": [
      "average dist to true faces = 0.5224360956503813\n",
      "nb extreme points train = 4005\n",
      "nb extreme points test = 462\n"
     ]
    }
   ],
   "source": [
    "R = 200\n",
    "print(f'average dist to true faces = {ut.levenshtein_faces_radius(faces, R, V_test)}')\n",
    "V_train_bin = ut.above_radius_bin(V_train, R)\n",
    "print(f'nb extreme points train = {V_train_bin.shape[0]}')\n",
    "V_test_bin = ut.above_radius_bin(V_test, R)\n",
    "print(f'nb extreme points test = {V_test_bin.shape[0]}')"
   ]
  },
  {
   "cell_type": "markdown",
   "metadata": {},
   "source": [
    "# CLEF"
   ]
  },
  {
   "cell_type": "code",
   "execution_count": 6,
   "metadata": {},
   "outputs": [
    {
     "name": "stdout",
     "output_type": "stream",
     "text": [
      "nb maximal faces = 131\n",
      "average dist to clef faces = 0.5027498235290443\n"
     ]
    }
   ],
   "source": [
    "faces_clf = clf.clef(V_train, R, kappa_min=0.05)\n",
    "print(f'nb maximal faces = {len(faces_clf)}')\n",
    "print(f'average dist to clef faces = {ut.levenshtein_faces_radius(faces_clf, R, V_test)}')"
   ]
  },
  {
   "cell_type": "markdown",
   "metadata": {},
   "source": [
    "# Hill"
   ]
  },
  {
   "cell_type": "code",
   "execution_count": 7,
   "metadata": {},
   "outputs": [
    {
     "name": "stdout",
     "output_type": "stream",
     "text": [
      "nb maximal faces: 99\n",
      "average dist to hill faces = 0.5184386380814953\n"
     ]
    }
   ],
   "source": [
    "k = int(n_train/R - 1)\n",
    "delta = 0.005\n",
    "faces_hill = hill.hill(V_train, delta, k)\n",
    "print(f'nb maximal faces: {len(faces_hill)}')\n",
    "print(f'average dist to hill faces = {ut.levenshtein_faces_radius(faces_hill, R, V_test)}')"
   ]
  },
  {
   "cell_type": "markdown",
   "metadata": {},
   "source": [
    "# DAMEX"
   ]
  },
  {
   "cell_type": "code",
   "execution_count": 8,
   "metadata": {},
   "outputs": [
    {
     "name": "stdout",
     "output_type": "stream",
     "text": [
      "nb faces: 53\n",
      "average dist to damex faces = 0.5948241693371563\n"
     ]
    }
   ],
   "source": [
    "eps = 0.3\n",
    "nb_min = 10\n",
    "faces_dmx = dmx.damex(V_train, R, eps, nb_min)\n",
    "print(f'nb faces: {len(faces_dmx)}')\n",
    "print(f'average dist to damex faces = {ut.levenshtein_faces_radius(faces_dmx, R, V_test)}')"
   ]
  },
  {
   "cell_type": "markdown",
   "metadata": {},
   "source": [
    "# Peng"
   ]
  },
  {
   "cell_type": "code",
   "execution_count": 9,
   "metadata": {},
   "outputs": [
    {
     "name": "stdout",
     "output_type": "stream",
     "text": [
      "nb maximal faces: 119\n",
      "average dist to peng faces = 0.5096015035950101\n"
     ]
    }
   ],
   "source": [
    "k = int(n_train/R - 1)\n",
    "delta_p = 0.05\n",
    "faces_peng = pg.peng(V_train, delta_p, k, rho_min=0.05)\n",
    "print(f'nb maximal faces: {len(faces_peng)}')\n",
    "print(f'average dist to peng faces = {ut.levenshtein_faces_radius(faces_peng, R, V_test)}')"
   ]
  },
  {
   "cell_type": "markdown",
   "metadata": {},
   "source": [
    "# CLEF asymptotic"
   ]
  },
  {
   "cell_type": "code",
   "execution_count": 10,
   "metadata": {},
   "outputs": [
    {
     "name": "stdout",
     "output_type": "stream",
     "text": [
      "nb maximal faces: 267\n",
      "average dist to peng faces = 0.4858392989886497\n"
     ]
    }
   ],
   "source": [
    "kappa_as_min = 0.05\n",
    "delta_k = 0.05\n",
    "faces_clf_as = clf_as.clef_as(V_train, delta_k, k, kappa_as_min)\n",
    "print(f'nb maximal faces: {len(faces_clf_as)}')\n",
    "print(f'average dist to peng faces = {ut.levenshtein_faces_radius(faces_clf_as, R, V_test)}')"
   ]
  }
 ],
 "metadata": {
  "kernelspec": {
   "display_name": "Python 3",
   "language": "python",
   "name": "python3"
  },
  "language_info": {
   "codemirror_mode": {
    "name": "ipython",
    "version": 3
   },
   "file_extension": ".py",
   "mimetype": "text/x-python",
   "name": "python",
   "nbconvert_exporter": "python",
   "pygments_lexer": "ipython3",
   "version": "3.6.6"
  }
 },
 "nbformat": 4,
 "nbformat_minor": 2
}

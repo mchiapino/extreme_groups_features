{
 "cells": [
  {
   "cell_type": "code",
   "execution_count": 1,
   "metadata": {},
   "outputs": [],
   "source": [
    "# Imports\n",
    "from __future__ import division\n",
    "import numpy as np\n",
    "%matplotlib inline\n",
    "import matplotlib.pyplot as plt\n",
    "\n",
    "import logistic as lgtc\n",
    "import generate_alphas as ga\n",
    "import extreme_data as xtr\n",
    "import clef_algo as clf\n",
    "import hill_estimator as hill\n",
    "import utilities as ut\n",
    "import damex_algo as dmx\n",
    "import peng_estimator as pg\n",
    "import kappa_estimator as kp\n",
    "\n",
    "from sklearn.model_selection import ShuffleSplit"
   ]
  },
  {
   "cell_type": "markdown",
   "metadata": {},
   "source": [
    "## Generate data"
   ]
  },
  {
   "cell_type": "code",
   "execution_count": 2,
   "metadata": {},
   "outputs": [],
   "source": [
    "d = 100\n",
    "K = 80\n",
    "max_size = 8\n",
    "p_geom = 0.25\n",
    "list_charged_faces = ga.gen_random_alphas(d, K, max_size, p_geom, with_singlet=False)[0]\n",
    "np.save('saves/faces.npy', list_charged_faces)\n",
    "#list_charged_faces = np.load('saves/faces.npy')"
   ]
  },
  {
   "cell_type": "code",
   "execution_count": 4,
   "metadata": {},
   "outputs": [],
   "source": [
    "n = int(2e4)\n",
    "as_dep = 0.5\n",
    "X = lgtc.asym_logistic(d, list_charged_faces, n, as_dep)\n",
    "np.save('saves/logistic_' + str(as_dep)[2:] + '.npy', X)\n",
    "#X = np.load('saves/logistic_' + str(as_dep)[2:] + '.npy')\n",
    "V = xtr.rank_transformation(X)"
   ]
  },
  {
   "cell_type": "markdown",
   "metadata": {},
   "source": [
    "## Split train/test"
   ]
  },
  {
   "cell_type": "code",
   "execution_count": 5,
   "metadata": {},
   "outputs": [
    {
     "name": "stdout",
     "output_type": "stream",
     "text": [
      "nb train: 18000\n",
      "nb test: 2000\n"
     ]
    }
   ],
   "source": [
    "rs = ShuffleSplit(n_splits=1, test_size=.1, random_state=0)\n",
    "ind_train, ind_test = list(rs.split(V))[0]\n",
    "V_train = V[ind_train]\n",
    "n_train = V_train.shape[0]\n",
    "print('nb train:', n_train)\n",
    "V_test = V[ind_test]\n",
    "n_test = V_test.shape[0]\n",
    "print('nb test:', n_test)"
   ]
  },
  {
   "cell_type": "markdown",
   "metadata": {},
   "source": [
    "## Levenshtein distance on true faces"
   ]
  },
  {
   "cell_type": "code",
   "execution_count": null,
   "metadata": {},
   "outputs": [],
   "source": [
    "Rs = np.array([10, 50, 100, 150, 200, 400, 600, 800, 1000, 2000, 3000, 5000, 7500, 10000])\n",
    "Ds_1, Ns = ut.dist_levenshtein_Rs(list_charged_faces, d, Rs, V, eps=0.1)\n",
    "print(min(Ds_1), Rs[np.argmin(Ds_1)])\n",
    "plt.plot(Rs, Ds_1)\n",
    "#plt.xlim(Ns[0], Ns[-1])\n",
    "#plt.xticks(Ns, Rs)"
   ]
  },
  {
   "cell_type": "markdown",
   "metadata": {},
   "source": [
    "### Extreme points"
   ]
  },
  {
   "cell_type": "code",
   "execution_count": 7,
   "metadata": {},
   "outputs": [
    {
     "name": "stdout",
     "output_type": "stream",
     "text": [
      "k =  89\n",
      "nb extreme points: 4464\n",
      "nb extreme train points: 4043\n",
      "nb extreme test points: 421\n"
     ]
    }
   ],
   "source": [
    "R = 200\n",
    "k = int(n_train/R - 1)\n",
    "print('k = ', k)\n",
    "feats_min = 0\n",
    "print('nb extreme points:', np.sum(np.sum(V > R, axis=1) > feats_min))\n",
    "V_bin = 1.*(V > R)\n",
    "\n",
    "V_bin_train = V_bin[ind_train]\n",
    "V_bin_train = V_bin_train[np.sum(V_bin_train, axis=1) > feats_min]\n",
    "print('nb extreme train points:', np.sum(np.sum(V_train > R, axis=1) > feats_min))\n",
    "\n",
    "V_bin_test = V_bin[ind_test]\n",
    "V_bin_test = V_bin_test[np.sum(V_bin_test, axis=1) > feats_min]\n",
    "print('nb extreme test points:', np.sum(np.sum(V_test > R, axis=1) > feats_min))"
   ]
  },
  {
   "cell_type": "code",
   "execution_count": null,
   "metadata": {},
   "outputs": [],
   "source": [
    "print(ut.dist_levenshtein_R(list_charged_faces, d, V_bin_test))"
   ]
  },
  {
   "cell_type": "markdown",
   "metadata": {},
   "source": [
    "## CLEF"
   ]
  },
  {
   "cell_type": "code",
   "execution_count": null,
   "metadata": {},
   "outputs": [],
   "source": [
    "kappa_min = 0.1\n",
    "faces_clf = clf.clef_0(V_bin_train, kappa_min)\n",
    "print(list(map(len, xtr.check_errors(list_charged_faces, faces_clf, d))))\n",
    "print('nb faces:', len(faces_clf))\n",
    "print(ut.dist_levenshtein_R(faces_clf, d, V_bin_test))"
   ]
  },
  {
   "cell_type": "code",
   "execution_count": null,
   "metadata": {},
   "outputs": [],
   "source": [
    "Ds_2, Ns = ut.dist_levenshtein_Rs(faces_clf, d, Rs, V_test)\n",
    "plt.plot(Ns, Ds_2)\n",
    "plt.xlim(Ns[0], Ns[-1])\n",
    "plt.show()"
   ]
  },
  {
   "cell_type": "markdown",
   "metadata": {},
   "source": [
    "## Hill"
   ]
  },
  {
   "cell_type": "code",
   "execution_count": null,
   "metadata": {},
   "outputs": [],
   "source": [
    "k = int(n_train/R - 1)\n",
    "r_p = n_train/(k + int(k**(3./4)) + 1)\n",
    "r_m = n_train/(k - int(k**(3./4)) + 1)\n",
    "delta = 0.1\n",
    "faces_hill = hill.hill_0(V_train, V_train > R, V_train > r_p, V_train > r_m, delta, k, var_max=5, verbose=1)\n",
    "print(list(map(len, xtr.check_errors(list_charged_faces, faces_hill, d))))\n",
    "print('nb faces:', len(faces_hill))\n",
    "print(ut.dist_levenshtein_R(faces_hill, d, V_bin_test))"
   ]
  },
  {
   "cell_type": "code",
   "execution_count": null,
   "metadata": {},
   "outputs": [],
   "source": [
    "Ds_3, Ns = ut.dist_levenshtein_Rs(faces_hill, d, Rs, V_test)\n",
    "plt.plot(Ns, Ds_3)\n",
    "plt.xlim(Ns[0], Ns[-1])\n",
    "plt.show()"
   ]
  },
  {
   "cell_type": "markdown",
   "metadata": {},
   "source": [
    "## DAMEX"
   ]
  },
  {
   "cell_type": "code",
   "execution_count": null,
   "metadata": {},
   "outputs": [],
   "source": [
    "eps = 0.1\n",
    "V_bin_dmx = 1.*(V_train[np.max(V_train, axis=1) > R] > R*eps)\n",
    "V_bin_dmx = V_bin_dmx[np.sum(V_bin_dmx, axis=1) > 0]\n",
    "faces_dmx, mass = dmx.damex_0(V_bin_dmx)\n",
    "faces_dmx = faces_dmx[:np.sum(mass > 1)]\n",
    "print(list(map(len, xtr.check_errors(list_charged_faces, faces_dmx, d))))\n",
    "print('nb faces:', len(faces_dmx))\n",
    "#V_bin_dmx_test = 1.*(V_test[np.max(V_test, axis=1) > R] > R*eps)\n",
    "#V_bin_dmx_test = V_bin_dmx_test[np.sum(V_bin_dmx_test, axis=1) > 1]\n",
    "print(ut.dist_levenshtein_R(faces_dmx, d, V_bin_test))"
   ]
  },
  {
   "cell_type": "code",
   "execution_count": null,
   "metadata": {},
   "outputs": [],
   "source": [
    "Ds_4, Ns = ut.dist_levenshtein_Rs(faces_dmx, d, Rs, V_test)\n",
    "plt.plot(Ns, Ds_4)\n",
    "plt.xlim(Ns[0], Ns[-1])\n",
    "plt.show()"
   ]
  },
  {
   "cell_type": "markdown",
   "metadata": {},
   "source": [
    "## Peng"
   ]
  },
  {
   "cell_type": "code",
   "execution_count": 13,
   "metadata": {},
   "outputs": [
    {
     "name": "stdout",
     "output_type": "stream",
     "text": [
      "2 : 514\n",
      "3 : 506\n",
      "4 : 285\n",
      "5 : 98\n",
      "6 : 20\n",
      "[15, 66, 0, 147, 37]\n",
      "nb faces: 162\n",
      "0.551899894774004\n"
     ]
    }
   ],
   "source": [
    "k = int(n_train/R - 1)\n",
    "r_p = n_train/(k + int(k**(3./4)) + 1)\n",
    "r_m = n_train/(k - int(k**(3./4)) + 1)\n",
    "delta_p = 0.3\n",
    "r_2 = n_train/(2*k + 1)\n",
    "faces_peng = pg.peng_0(V_train > R, V_train > r_2, V_train > r_p, V_train > r_m, delta_p, k, rho_min=0.05)\n",
    "print(list(map(len, xtr.check_errors(list_charged_faces, faces_peng, d))))\n",
    "print('nb faces:', len(faces_peng))\n",
    "print(ut.dist_levenshtein_R(faces_peng, d, V_bin_test))"
   ]
  },
  {
   "cell_type": "markdown",
   "metadata": {},
   "source": [
    "## CLEF asymptotic"
   ]
  },
  {
   "cell_type": "code",
   "execution_count": 19,
   "metadata": {},
   "outputs": [
    {
     "name": "stdout",
     "output_type": "stream",
     "text": [
      "2 : 669\n",
      "3 : 946\n",
      "4 : 746\n",
      "5 : 319\n",
      "6 : 59\n",
      "[30, 51, 8, 216, 90]\n",
      "nb faces: 254\n",
      "0.5000047128906987\n"
     ]
    }
   ],
   "source": [
    "kappa_as = 0.05\n",
    "delta_k = 0.05\n",
    "faces_kapas = kp.kappa_as_0(V_train, V_train > R, V_train > r_p, V_train > r_m, delta_k, k, kappa_as)\n",
    "print(list(map(len, xtr.check_errors(list_charged_faces, faces_kapas, d))))\n",
    "print('nb faces:', len(faces_kapas))\n",
    "print(ut.dist_levenshtein_R(faces_kapas, d, V_bin_test))"
   ]
  }
 ],
 "metadata": {
  "kernelspec": {
   "display_name": "Python 3",
   "language": "python",
   "name": "python3"
  },
  "language_info": {
   "codemirror_mode": {
    "name": "ipython",
    "version": 3
   },
   "file_extension": ".py",
   "mimetype": "text/x-python",
   "name": "python",
   "nbconvert_exporter": "python",
   "pygments_lexer": "ipython3",
   "version": "3.6.6"
  }
 },
 "nbformat": 4,
 "nbformat_minor": 2
}

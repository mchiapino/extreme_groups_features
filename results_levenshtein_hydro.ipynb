{
 "cells": [
  {
   "cell_type": "code",
   "execution_count": 1,
   "metadata": {},
   "outputs": [],
   "source": [
    "import numpy as np"
   ]
  },
  {
   "cell_type": "markdown",
   "metadata": {},
   "source": [
    "# Hydro"
   ]
  },
  {
   "cell_type": "code",
   "execution_count": 19,
   "metadata": {},
   "outputs": [],
   "source": [
    "path_folder = 'saves/hydro/'\n",
    "id_ = '661'\n",
    "end_path = '_hydro_' + id_ + '.npy'"
   ]
  },
  {
   "cell_type": "code",
   "execution_count": 20,
   "metadata": {},
   "outputs": [],
   "source": [
    "dist_clef_hydro = np.load(path_folder + 'dist_clef' + end_path, encoding='latin1').item()\n",
    "nb_clef_hydro = np.load(path_folder + 'nb_clef' + end_path).item()\n",
    "dist_dmx_hydro = np.load(path_folder + 'dist_dmx' + end_path, encoding='latin1').item()\n",
    "nb_dmx_hydro = np.load(path_folder + 'nb_dmx' + end_path).item()\n",
    "dist_hill_hydro = np.load(path_folder + 'dist_hill' + end_path, encoding='latin1').item()\n",
    "nb_hill_hydro = np.load(path_folder + 'nb_hill' + end_path).item()\n",
    "dist_clef_as_hydro = np.load(path_folder + 'dist_clef_as' + end_path).item()\n",
    "nb_clef_as_hydro = np.load(path_folder + 'nb_clef_as' + end_path).item()\n",
    "dist_peng_hydro = np.load(path_folder + 'dist_peng' + end_path).item()\n",
    "nb_peng_hydro = np.load(path_folder + 'nb_peng' + end_path).item()\n",
    "params = np.load(path_folder + 'params_' + id_ + '.npy').item()"
   ]
  },
  {
   "cell_type": "code",
   "execution_count": 21,
   "metadata": {},
   "outputs": [
    {
     "data": {
      "text/plain": [
       "{'R': 100,\n",
       " 'kap_min': [0.2, 0.25, 0.3, 0.35, 0.4],\n",
       " 'delta_hill': [0.01, 0.025, 0.05],\n",
       " 'eps_dmx': 0.3,\n",
       " 'mass_min': [0, 1, 2, 3, 5, 7, 10],\n",
       " 'delta_p': [0.1, 0.2, 0.3],\n",
       " 'var_max': 0.05,\n",
       " 'delta_k': [0.01, 0.025, 0.05]}"
      ]
     },
     "execution_count": 21,
     "metadata": {},
     "output_type": "execute_result"
    }
   ],
   "source": [
    "params"
   ]
  },
  {
   "cell_type": "markdown",
   "metadata": {},
   "source": [
    "### CLEF"
   ]
  },
  {
   "cell_type": "code",
   "execution_count": 11,
   "metadata": {},
   "outputs": [
    {
     "name": "stdout",
     "output_type": "stream",
     "text": [
      "kappa min: 0.2\n",
      "dist res: 0.615115330435467 0.01575356736335793\n",
      "nb faces res: 62.9 3.477067730142742\n",
      "\n",
      "\n",
      "kappa min: 0.25\n",
      "dist res: 0.6270341961247337 0.013515382730065632\n",
      "nb faces res: 64.3 2.968164415931166\n",
      "\n",
      "\n",
      "kappa min: 0.275\n",
      "dist res: 0.6389470200157225 0.013771335360812823\n",
      "nb faces res: 67.1 2.211334438749598\n",
      "\n",
      "\n",
      "kappa min: 0.3\n",
      "dist res: 0.6497478228168507 0.015709951581879322\n",
      "nb faces res: 58.2 4.019950248448356\n",
      "\n",
      "\n",
      "kappa min: 0.35\n",
      "dist res: 0.6768918394459074 0.011863143641987981\n",
      "nb faces res: 42.8 1.9899748742132397\n",
      "\n",
      "\n",
      "kappa min: 0.4\n",
      "dist res: 0.72339213244356 0.013845248560022552\n",
      "nb faces res: 31.2 1.5999999999999999\n",
      "\n",
      "\n"
     ]
    }
   ],
   "source": [
    "for kap in params['kap_min']:\n",
    "    print('kappa min:', kap)\n",
    "    print('dist res:', np.mean(dist_clef_hydro[kap]), np.std(dist_clef_hydro[kap]))\n",
    "    print('nb faces res:', np.mean(nb_clef_hydro[kap]), np.std(nb_clef_hydro[kap]))\n",
    "    print('\\n')"
   ]
  },
  {
   "cell_type": "markdown",
   "metadata": {},
   "source": [
    "### Hill"
   ]
  },
  {
   "cell_type": "code",
   "execution_count": 12,
   "metadata": {},
   "outputs": [
    {
     "name": "stdout",
     "output_type": "stream",
     "text": [
      "delta: 0.01\n",
      "dist res: 0.6230385029700521 0.020425818240127847\n",
      "nb faces res: 150.3 17.9055857206627\n",
      "\n",
      "\n",
      "delta: 0.02\n",
      "dist res: 0.6469292476805615 0.018713646958884438\n",
      "nb faces res: 108.9 12.825365491868059\n",
      "\n",
      "\n",
      "delta: 0.03\n",
      "dist res: 0.6630918873219834 0.025316104034328584\n",
      "nb faces res: 88.1 8.83685464404615\n",
      "\n",
      "\n",
      "delta: 0.04\n",
      "dist res: 0.6754195492787738 0.027752169704195674\n",
      "nb faces res: 73.8 10.186265262597475\n",
      "\n",
      "\n",
      "delta: 0.05\n",
      "dist res: 0.6844083171987562 0.026423624059570206\n",
      "nb faces res: 64.2 7.756287771866127\n",
      "\n",
      "\n",
      "delta: 0.075\n",
      "dist res: 0.7280056429912096 0.021519970330940358\n",
      "nb faces res: 47.9 7.502666192761078\n",
      "\n",
      "\n",
      "delta: 0.1\n",
      "dist res: 0.7528223083849056 0.021186019118422158\n",
      "nb faces res: 36.1 5.734980383575867\n",
      "\n",
      "\n"
     ]
    }
   ],
   "source": [
    "for delta in params['delta_hill']:\n",
    "    print('delta:', delta)\n",
    "    print('dist res:', np.mean(dist_hill_hydro[delta]), np.std(dist_hill_hydro[delta]))\n",
    "    print('nb faces res:', np.mean(nb_hill_hydro[delta]), np.std(nb_hill_hydro[delta]))\n",
    "    print('\\n')"
   ]
  },
  {
   "cell_type": "markdown",
   "metadata": {},
   "source": [
    "### DAMEX"
   ]
  },
  {
   "cell_type": "code",
   "execution_count": 13,
   "metadata": {},
   "outputs": [
    {
     "name": "stdout",
     "output_type": "stream",
     "text": [
      "mass min: 0\n",
      "dist res: 0.49152724680127646 0.013711601063668998\n",
      "nb faces res: 2272.4 6.755738301621815\n",
      "\n",
      "\n",
      "mass min: 1\n",
      "dist res: 0.6487750367569015 0.016400455612452545\n",
      "nb faces res: 61.6 1.4966629547095767\n",
      "\n",
      "\n",
      "mass min: 2\n",
      "dist res: 0.763079527355128 0.013742073253124466\n",
      "nb faces res: 20.9 1.0440306508910548\n",
      "\n",
      "\n",
      "mass min: 3\n",
      "dist res: 0.8625480739430952 0.008543810800182038\n",
      "nb faces res: 8.5 0.6708203932499369\n",
      "\n",
      "\n",
      "mass min: 5\n",
      "dist res: 0.921331325962023 0.023613495288353256\n",
      "nb faces res: 3.2 0.7483314773547882\n",
      "\n",
      "\n",
      "mass min: 7\n",
      "dist res: 0.9495597735948393 0.007590274725068452\n",
      "nb faces res: 1.9 0.3\n",
      "\n",
      "\n",
      "mass min: 10\n",
      "dist res: 0.953584042652652 0.006915612293451863\n",
      "nb faces res: 1.2 0.4\n",
      "\n",
      "\n"
     ]
    }
   ],
   "source": [
    "for mass_min in params['mass_min']:\n",
    "    print('mass min:', mass_min)\n",
    "    print('dist res:', np.mean(dist_dmx_hydro[mass_min]), np.std(dist_dmx_hydro[mass_min]))\n",
    "    print('nb faces res:', np.mean(nb_dmx_hydro[mass_min]), np.std(nb_dmx_hydro[mass_min]))\n",
    "    print('\\n')"
   ]
  },
  {
   "cell_type": "markdown",
   "metadata": {},
   "source": [
    "### Peng"
   ]
  },
  {
   "cell_type": "code",
   "execution_count": 22,
   "metadata": {},
   "outputs": [
    {
     "name": "stdout",
     "output_type": "stream",
     "text": [
      "delta: 0.1\n",
      "dist res: 0.546086611882093 0.007418246231159405\n",
      "nb faces res: 1904.6 317.5894204787055\n",
      "\n",
      "\n",
      "delta: 0.2\n",
      "dist res: 0.598361639514602 0.010533940212835905\n",
      "nb faces res: 385.2 23.025203582161875\n",
      "\n",
      "\n",
      "delta: 0.3\n",
      "dist res: 0.6214755282780378 0.008001706678730392\n",
      "nb faces res: 213.6 12.208193969625482\n",
      "\n",
      "\n"
     ]
    }
   ],
   "source": [
    "for delta in params['delta_p']:\n",
    "    print('delta:', delta)\n",
    "    print('dist res:', np.mean(dist_peng_hydro[delta]), np.std(dist_peng_hydro[delta]))\n",
    "    print('nb faces res:', np.mean(nb_peng_hydro[delta]), np.std(nb_peng_hydro[delta]))\n",
    "    print('\\n')"
   ]
  },
  {
   "cell_type": "markdown",
   "metadata": {},
   "source": [
    "### CLEF asymptotic"
   ]
  },
  {
   "cell_type": "code",
   "execution_count": 15,
   "metadata": {},
   "outputs": [
    {
     "name": "stdout",
     "output_type": "stream",
     "text": [
      "delta: 0.01\n",
      "dist res: 0.6388033368289674 0.013148410081578858\n",
      "nb faces res: 93.5 10.072239075796404\n",
      "\n",
      "\n",
      "delta: 0.025\n",
      "dist res: 0.6396372229238899 0.013834893178540917\n",
      "nb faces res: 88.5 9.604686356149273\n",
      "\n",
      "\n",
      "delta: 0.05\n",
      "dist res: 0.6400421481308636 0.012770722376814678\n",
      "nb faces res: 85.9 8.34805366537614\n",
      "\n",
      "\n"
     ]
    }
   ],
   "source": [
    "for delta in params['delta_k']:\n",
    "    print('delta:', delta)\n",
    "    print('dist res:', np.mean(dist_clef_as_hydro[delta]), np.std(dist_clef_as_hydro[delta]))\n",
    "    print('nb faces res:', np.mean(nb_clef_as_hydro[delta]), np.std(nb_clef_as_hydro[delta]))\n",
    "    print('\\n')"
   ]
  }
 ],
 "metadata": {
  "kernelspec": {
   "display_name": "Python 3",
   "language": "python",
   "name": "python3"
  },
  "language_info": {
   "codemirror_mode": {
    "name": "ipython",
    "version": 3
   },
   "file_extension": ".py",
   "mimetype": "text/x-python",
   "name": "python",
   "nbconvert_exporter": "python",
   "pygments_lexer": "ipython3",
   "version": "3.6.6"
  }
 },
 "nbformat": 4,
 "nbformat_minor": 2
}

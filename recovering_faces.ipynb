{
 "cells": [
  {
   "cell_type": "markdown",
   "metadata": {},
   "source": [
    "# Results on simulated data"
   ]
  },
  {
   "cell_type": "code",
   "execution_count": 1,
   "metadata": {},
   "outputs": [],
   "source": [
    "from __future__ import division\n",
    "import numpy as np\n",
    "import matplotlib.pyplot as plt"
   ]
  },
  {
   "cell_type": "markdown",
   "metadata": {},
   "source": [
    "## Generating datasets"
   ]
  },
  {
   "cell_type": "code",
   "execution_count": 2,
   "metadata": {},
   "outputs": [],
   "source": [
    "import logistic as lgtc\n",
    "import generate_alphas as ga"
   ]
  },
  {
   "cell_type": "markdown",
   "metadata": {},
   "source": [
    "### Random faces"
   ]
  },
  {
   "cell_type": "code",
   "execution_count": 3,
   "metadata": {},
   "outputs": [],
   "source": [
    "d = 100\n",
    "K = 70\n",
    "max_size = 8\n",
    "p_geom = 0.25\n",
    "list_charged_faces = ga.gen_random_alphas(d, K, max_size, p_geom, with_singlet=False)[0]"
   ]
  },
  {
   "cell_type": "markdown",
   "metadata": {},
   "source": [
    "### Faces to accept/reject"
   ]
  },
  {
   "cell_type": "code",
   "execution_count": 4,
   "metadata": {},
   "outputs": [],
   "source": [
    "all_faces = ga.all_sub_alphas(list_charged_faces)\n",
    "dict_true_faces = ga.dict_size(all_faces)\n",
    "dict_false_faces = ga.dict_falses(dict_true_faces, d)"
   ]
  },
  {
   "cell_type": "markdown",
   "metadata": {},
   "source": [
    "### Logistic datasets"
   ]
  },
  {
   "cell_type": "code",
   "execution_count": 20,
   "metadata": {},
   "outputs": [],
   "source": [
    "n = int(5e4)\n",
    "as_dep = 0.5\n",
    "X = lgtc.asym_logistic(d, list_charged_faces, n, as_dep)"
   ]
  },
  {
   "cell_type": "markdown",
   "metadata": {},
   "source": [
    "## Extreme points"
   ]
  },
  {
   "cell_type": "code",
   "execution_count": 14,
   "metadata": {},
   "outputs": [],
   "source": [
    "import extreme_data as xtr\n",
    "V = xtr.rank_transformation(X)"
   ]
  },
  {
   "cell_type": "markdown",
   "metadata": {},
   "source": [
    "## Recovering true faces"
   ]
  },
  {
   "cell_type": "code",
   "execution_count": 7,
   "metadata": {},
   "outputs": [],
   "source": [
    "import hill_estimator as hill\n",
    "import kappa_estimator as kap\n",
    "\n",
    "def freq(face, V, r):\n",
    "    return np.sum(np.prod(V[:, face] > r, axis=1))/int(V.shape[0]/r - 1)\n",
    "\n",
    "def kappa(face, V, r):\n",
    "    return np.sum(np.prod(V[:, face] > r, axis=1))/np.sum(np.sum(V[:, face] > r, axis=1) >= len(face)-1)\n",
    "\n",
    "def kap_as(face, V, r, kappa_min, delta):\n",
    "    k = int(V.shape[0]/r - 1)\n",
    "    r_p = V.shape[0]/(k + int(k**(3./4)) + 1)\n",
    "    r_m = V.shape[0]/(k - int(k**(3./4)) + 1)\n",
    "    return kap.kappa_test(V > r, V > r_p, V > r_m, face, k, kappa_min, delta)[0]\n",
    "\n",
    "def hll(face, V, r, delta):\n",
    "    k = int(V.shape[0]/r - 1)\n",
    "    r_p = V.shape[0]/(k + int(k**(3./4)) + 1)\n",
    "    r_m = V.shape[0]/(k - int(k**(3./4)) + 1)\n",
    "    return hill.hill_test(V, V > r, V > r_p, V > r_m, face, k, delta)[0]"
   ]
  },
  {
   "cell_type": "code",
   "execution_count": 16,
   "metadata": {},
   "outputs": [],
   "source": [
    "def gap_freq(V, r, dict_true_faces, dict_false_faces):\n",
    "    t_f = [[freq(face_s, V, r) for face_s in dict_true_faces[s]] for s in dict_true_faces.keys()]\n",
    "    f_f = [[freq(face_s, V, r) for face_s in dict_false_faces[s]] for s in dict_false_faces.keys()]\n",
    "    return min([min(t_f_s) for t_f_s in t_f]) - max([max(f_f_s) for f_f_s in f_f])\n",
    "\n",
    "def gap_kap(V, r, dict_true_faces, dict_false_faces):\n",
    "    t_f = [[kappa(face_s, V, r) for face_s in dict_true_faces[s]] for s in dict_true_faces.keys()]\n",
    "    f_f = [[kappa(face_s, V, r) for face_s in dict_false_faces[s]] for s in dict_false_faces.keys()]\n",
    "    return min([min(t_f_s) for t_f_s in t_f]) - max([max(f_f_s) for f_f_s in f_f])\n",
    "\n",
    "def gap_kap_as(V, r, dict_true_faces, dict_false_faces, kappa_min, delta):\n",
    "    t_f = [[kap_as(face_s, V, r, kappa_min, delta) for face_s in dict_true_faces[s]] for s in dict_true_faces.keys()]\n",
    "    f_f = [[kap_as(face_s, V, r, kappa_min, delta) for face_s in dict_false_faces[s]] for s in dict_false_faces.keys()]\n",
    "    g = min([min(t_f_s) for t_f_s in t_f]) - max([max(f_f_s) for f_f_s in f_f])\n",
    "    return min([min(t_f_s) for t_f_s in t_f]) - max([max(f_f_s) for f_f_s in f_f])\n",
    "#1*(min([min(t_f_s) for t_f_s in t_f]) > 0) + 1*(max([max(f_f_s) for f_f_s in f_f]) < 0)\n",
    "\n",
    "def gap_hill(V, r, dict_true_faces, dict_false_faces, delta):\n",
    "    t_f = [[hll(face_s, V, r, delta) for face_s in dict_true_faces[s]] for s in dict_true_faces.keys()]\n",
    "    f_f = [[hll(face_s, V, r, delta) for face_s in dict_false_faces[s]] for s in dict_false_faces.keys()]\n",
    "    return min([min(t_f_s) for t_f_s in t_f]) - max([max(f_f_s) for f_f_s in f_f])\n",
    "#1*(min([min(t_f_s) for t_f_s in t_f]) > 0) + 1*(max([max(f_f_s) for f_f_s in f_f]) < 0)"
   ]
  },
  {
   "cell_type": "code",
   "execution_count": 15,
   "metadata": {},
   "outputs": [
    {
     "data": {
      "text/plain": [
       "[<matplotlib.lines.Line2D at 0x7f7c24425f10>]"
      ]
     },
     "execution_count": 15,
     "metadata": {},
     "output_type": "execute_result"
    },
    {
     "data": {
      "image/png": "[encoded data removed]",
      "text/plain": [
       "<Figure size 432x288 with 1 Axes>"
      ]
     },
     "metadata": {},
     "output_type": "display_data"
    }
   ],
   "source": [
    "%matplotlib inline\n",
    "rs = [100., 150., 200., 250., 300., 400.]\n",
    "ks = [int(V.shape[0]/r - 1) for r in rs]\n",
    "plt.plot(rs, ks)"
   ]
  },
  {
   "cell_type": "code",
   "execution_count": 17,
   "metadata": {},
   "outputs": [
    {
     "data": {
      "text/plain": [
       "[<matplotlib.lines.Line2D at 0x7f7c2d8bae50>]"
      ]
     },
     "execution_count": 17,
     "metadata": {},
     "output_type": "execute_result"
    },
    {
     "data": {
      "image/png": "[encoded data removed]",
      "text/plain": [
       "<Figure size 432x288 with 1 Axes>"
      ]
     },
     "metadata": {},
     "output_type": "display_data"
    }
   ],
   "source": [
    "%matplotlib inline\n",
    "delta = 0.0001\n",
    "g_r = [gap_hill(V, r, dict_true_faces, dict_false_faces, delta) for r in rs]\n",
    "plt.plot(ks, np.zeros(len(ks)), 'k')\n",
    "plt.plot(ks, g_r)"
   ]
  },
  {
   "cell_type": "code",
   "execution_count": 18,
   "metadata": {},
   "outputs": [
    {
     "data": {
      "text/plain": [
       "[<matplotlib.lines.Line2D at 0x7f7c244e5f50>]"
      ]
     },
     "execution_count": 18,
     "metadata": {},
     "output_type": "execute_result"
    },
    {
     "data": {
      "image/png": "[encoded data removed]",
      "text/plain": [
       "<Figure size 432x288 with 1 Axes>"
      ]
     },
     "metadata": {},
     "output_type": "display_data"
    }
   ],
   "source": [
    "%matplotlib inline\n",
    "g_r = [gap_freq(V, r, dict_true_faces, dict_false_faces) for r in rs]\n",
    "plt.plot(ks, np.zeros(len(ks)), 'k')\n",
    "plt.plot(ks, g_r)"
   ]
  },
  {
   "cell_type": "code",
   "execution_count": 19,
   "metadata": {},
   "outputs": [
    {
     "data": {
      "text/plain": [
       "[<matplotlib.lines.Line2D at 0x7f7c2aec0f90>]"
      ]
     },
     "execution_count": 19,
     "metadata": {},
     "output_type": "execute_result"
    },
    {
     "data": {
      "image/png": "[encoded data removed]",
      "text/plain": [
       "<Figure size 432x288 with 1 Axes>"
      ]
     },
     "metadata": {},
     "output_type": "display_data"
    }
   ],
   "source": [
    "%matplotlib inline\n",
    "g_r = [gap_kap(V, r, dict_true_faces, dict_false_faces) for r in rs]\n",
    "plt.plot(ks, np.zeros(len(ks)), 'k')\n",
    "plt.plot(ks, g_r)"
   ]
  },
  {
   "cell_type": "code",
   "execution_count": null,
   "metadata": {},
   "outputs": [],
   "source": [
    "%matplotlib inline\n",
    "kappa_min = 0.1\n",
    "delta = 0.0001\n",
    "g_r = [gap_kap_as(V, r, dict_true_faces, dict_false_faces, kappa_min, delta) for r in rs]\n",
    "plt.plot(ks, np.zeros(len(ks)), 'k')\n",
    "plt.plot(ks, g_r)"
   ]
  }
 ],
 "metadata": {
  "kernelspec": {
   "display_name": "Python 2",
   "language": "python",
   "name": "python2"
  },
  "language_info": {
   "codemirror_mode": {
    "name": "ipython",
    "version": 2
   },
   "file_extension": ".py",
   "mimetype": "text/x-python",
   "name": "python",
   "nbconvert_exporter": "python",
   "pygments_lexer": "ipython2",
   "version": "2.7.15rc1"
  }
 },
 "nbformat": 4,
 "nbformat_minor": 2
}

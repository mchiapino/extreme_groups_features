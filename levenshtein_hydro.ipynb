{
 "cells": [
  {
   "cell_type": "markdown",
   "metadata": {},
   "source": [
    "# Rivers Flow Data"
   ]
  },
  {
   "cell_type": "code",
   "execution_count": 1,
   "metadata": {},
   "outputs": [],
   "source": [
    "# Imports\n",
    "import numpy as np\n",
    "from __future__ import division\n",
    "%matplotlib inline\n",
    "import matplotlib.pyplot as plt\n",
    "\n",
    "import extreme_data as extr\n",
    "import clef_algo as clf\n",
    "import hill_estimator as hill\n",
    "import peng_estimator as peng\n",
    "import kappa_estimator as kap\n",
    "import hydro_map as hm\n",
    "import damex_algo as dmx\n",
    "import generate_alphas as ga\n",
    "import utilities as ut\n",
    "import peng_estimator as pg\n",
    "import kappa_estimator as kp\n",
    "\n",
    "from sklearn.model_selection import ShuffleSplit"
   ]
  },
  {
   "cell_type": "markdown",
   "metadata": {},
   "source": [
    "## Load data"
   ]
  },
  {
   "cell_type": "code",
   "execution_count": 2,
   "metadata": {},
   "outputs": [],
   "source": [
    "X = np.load('data/hydro_data/raw_discharge.npy')\n",
    "V = extr.rank_transformation(X)\n",
    "n, d = V.shape"
   ]
  },
  {
   "cell_type": "markdown",
   "metadata": {},
   "source": [
    "## Split train/test"
   ]
  },
  {
   "cell_type": "code",
   "execution_count": 3,
   "metadata": {},
   "outputs": [
    {
     "name": "stdout",
     "output_type": "stream",
     "text": [
      "nb train: 13149\n",
      "nb test: 1461\n"
     ]
    }
   ],
   "source": [
    "rs = ShuffleSplit(n_splits=1, test_size=.1, random_state=1)\n",
    "ind_train, ind_test = list(rs.split(V))[0]\n",
    "V_train = V[ind_train]\n",
    "n_train = V_train.shape[0]\n",
    "print('nb train:', n_train)\n",
    "V_test = V[ind_test]\n",
    "n_test = V_test.shape[0]\n",
    "print('nb test:', n_test)"
   ]
  },
  {
   "cell_type": "markdown",
   "metadata": {},
   "source": [
    "### Extreme points"
   ]
  },
  {
   "cell_type": "code",
   "execution_count": 4,
   "metadata": {},
   "outputs": [
    {
     "name": "stdout",
     "output_type": "stream",
     "text": [
      "k =  130\n",
      "nb extreme points: 2674\n",
      "nb extreme train points: 2404\n",
      "nb extreme test points: 270\n"
     ]
    }
   ],
   "source": [
    "R = 100\n",
    "k = int(n_train/R - 1)\n",
    "feats_min = 0\n",
    "print('k = ', k)\n",
    "print('nb extreme points:', np.sum(np.sum(V > R, axis=1) > feats_min))\n",
    "V_bin = 1.*(V > R)\n",
    "\n",
    "V_bin_train = V_bin[ind_train]\n",
    "V_bin_train = V_bin_train[np.sum(V_bin_train, axis=1) > feats_min]\n",
    "print('nb extreme train points:', np.sum(np.sum(V_train > R, axis=1) > feats_min))\n",
    "\n",
    "V_bin_test = V_bin[ind_test]\n",
    "V_bin_test = V_bin_test[np.sum(V_bin_test, axis=1) > feats_min]\n",
    "print('nb extreme test points:', np.sum(np.sum(V_test > R, axis=1) > feats_min))"
   ]
  },
  {
   "cell_type": "markdown",
   "metadata": {},
   "source": [
    "## CLEF"
   ]
  },
  {
   "cell_type": "code",
   "execution_count": null,
   "metadata": {},
   "outputs": [],
   "source": [
    "kappa_min = 0.2\n",
    "faces_clf = clf.clef_0(V_bin_train, kappa_min)\n",
    "#hm.map_visualisation(faces_clf, d)"
   ]
  },
  {
   "cell_type": "code",
   "execution_count": null,
   "metadata": {},
   "outputs": [],
   "source": [
    "plt.hist(list(map(len, faces_clf)))\n",
    "print('nb faces:', len(faces_clf))\n",
    "print(ut.dist_levenshtein_R(faces_clf, d, V_bin_dmx_test))"
   ]
  },
  {
   "cell_type": "code",
   "execution_count": null,
   "metadata": {},
   "outputs": [],
   "source": [
    "Rs = np.array([10, 50, 100, 150, 200, 400, 600, 800, 1000, 2000, 3000, 5000, 7500, 10000])\n",
    "Ds_1, Ns = ut.dist_levenshtein_Rs(faces_clf, d, Rs, V_test, eps=0.3)\n",
    "print(min(Ds_1), Rs[np.argmin(Ds_1)])\n",
    "plt.plot(Rs, Ds_1)"
   ]
  },
  {
   "cell_type": "markdown",
   "metadata": {},
   "source": [
    "## Hill"
   ]
  },
  {
   "cell_type": "code",
   "execution_count": null,
   "metadata": {},
   "outputs": [],
   "source": [
    "k = int(n_train/R - 1)\n",
    "r_p = n_train/(k + int(k**(3./4)) + 1)\n",
    "r_m = n_train/(k - int(k**(3./4)) + 1)\n",
    "delta = 0.05\n",
    "faces_hill = hill.hill_0(V_train, V_train > R, V_train > r_p, V_train > r_m, delta, k)#, var_max=2, verbose=1)\n",
    "#hm.map_visualisation(faces_hill, d)"
   ]
  },
  {
   "cell_type": "code",
   "execution_count": null,
   "metadata": {},
   "outputs": [],
   "source": [
    "plt.hist(list(map(len, faces_hill)))\n",
    "print('nb faces:', len(faces_hill))\n",
    "print(ut.dist_levenshtein_R(faces_hill, d, V_bin_test))"
   ]
  },
  {
   "cell_type": "code",
   "execution_count": null,
   "metadata": {},
   "outputs": [],
   "source": [
    "Rs = np.array([10, 50, 100, 150, 200, 400, 600, 800, 1000, 2000, 3000, 5000, 7500, 10000])\n",
    "Ds_1, Ns = ut.dist_levenshtein_Rs(faces_hill, d, Rs, V_test, eps=0.3)\n",
    "print(min(Ds_1), Rs[np.argmin(Ds_1)])\n",
    "plt.plot(Rs, Ds_1)"
   ]
  },
  {
   "cell_type": "markdown",
   "metadata": {},
   "source": [
    "## DAMEX"
   ]
  },
  {
   "cell_type": "code",
   "execution_count": null,
   "metadata": {},
   "outputs": [],
   "source": [
    "eps = 0.3\n",
    "V_bin_dmx = 1.*(V_train[np.max(V_train, axis=1) > R] > R*eps)\n",
    "V_bin_dmx = V_bin_dmx[np.sum(V_bin_dmx, axis=1) > feats_min]\n",
    "faces_dmx, mass = dmx.damex_0(V_bin_dmx)\n",
    "faces_dmx = faces_dmx[:np.sum(mass > 1)]\n",
    "#hm.map_visualisation(faces_dmx, d)"
   ]
  },
  {
   "cell_type": "code",
   "execution_count": null,
   "metadata": {},
   "outputs": [],
   "source": [
    "plt.hist(list(map(len, faces_dmx)))\n",
    "print('nb faces:', len(faces_dmx))\n",
    "V_bin_dmx_test = 1.*(V_test[np.max(V_test, axis=1) > R] > R*eps)\n",
    "V_bin_dmx_test = V_bin_dmx_test[np.sum(V_bin_dmx_test, axis=1) > feats_min]\n",
    "print(ut.dist_levenshtein_R(faces_dmx, d, V_bin_dmx_test))"
   ]
  },
  {
   "cell_type": "code",
   "execution_count": null,
   "metadata": {},
   "outputs": [],
   "source": [
    "Rs = np.array([10, 50, 100, 150, 200, 400, 600, 800, 1000, 2000, 3000, 5000, 7500, 10000])\n",
    "Ds_1, Ns = ut.dist_levenshtein_Rs(faces_dmx, d, Rs, V_test, eps=0.3)\n",
    "print(min(Ds_1), Rs[np.argmin(Ds_1)])\n",
    "plt.plot(Rs, Ds_1)"
   ]
  },
  {
   "cell_type": "markdown",
   "metadata": {},
   "source": [
    "## Peng"
   ]
  },
  {
   "cell_type": "code",
   "execution_count": 11,
   "metadata": {},
   "outputs": [
    {
     "name": "stdout",
     "output_type": "stream",
     "text": [
      "2 : 551\n",
      "3 : 491\n",
      "4 : 139\n",
      "5 : 17\n"
     ]
    }
   ],
   "source": [
    "k = int(n_train/R - 1)\n",
    "r_p = n_train/(k + int(k**(3./4)) + 1)\n",
    "r_m = n_train/(k - int(k**(3./4)) + 1)\n",
    "delta_p = 0.2\n",
    "r_2 = n_train/(2*k + 1)\n",
    "faces_peng = pg.peng_0(V_train > R,\n",
    "                       V_train > r_2, V_train > r_p,\n",
    "                       V_train > r_m, delta_p, k, rho_min=0.05)\n",
    "#hm.map_visualisation(faces_peng, d)"
   ]
  },
  {
   "cell_type": "code",
   "execution_count": 10,
   "metadata": {},
   "outputs": [
    {
     "name": "stdout",
     "output_type": "stream",
     "text": [
      "nb faces: 1963\n",
      "0.5250510025832417\n"
     ]
    }
   ],
   "source": [
    "print('nb faces:', len(faces_peng))\n",
    "print(ut.dist_levenshtein_R(faces_peng, d, V_bin_train))"
   ]
  },
  {
   "cell_type": "code",
   "execution_count": null,
   "metadata": {},
   "outputs": [],
   "source": [
    "Rs = np.array([10, 50, 100, 150, 200, 400, 600, 800, 1000, 2000, 3000, 5000, 7500, 10000])\n",
    "Ds_1, Ns = ut.dist_levenshtein_Rs(faces_peng, d, Rs, V_test, eps=0.3)\n",
    "print(min(Ds_1), Rs[np.argmin(Ds_1)])\n",
    "plt.plot(Rs, Ds_1)"
   ]
  },
  {
   "cell_type": "markdown",
   "metadata": {},
   "source": [
    "## CLEF asymptotic"
   ]
  },
  {
   "cell_type": "code",
   "execution_count": null,
   "metadata": {},
   "outputs": [],
   "source": [
    "k = int(n_train/R - 1)\n",
    "r_p = n_train/(k + int(k**(3./4)) + 1)\n",
    "r_m = n_train/(k - int(k**(3./4)) + 1)\n",
    "delta_k = 0.05\n",
    "kappa_as = 0.3\n",
    "faces_kapas = kp.kappa_as_0(V_train, V_train > R, V_train > r_p, V_train > r_m, delta_k, k, kappa_as)#, var_max=1.5)\n",
    "#hm.map_visualisation(faces_kapas, d)"
   ]
  },
  {
   "cell_type": "code",
   "execution_count": null,
   "metadata": {},
   "outputs": [],
   "source": [
    "print('nb faces:', len(faces_kapas))\n",
    "print(ut.dist_levenshtein_R(faces_kapas, d, V_bin_test))"
   ]
  }
 ],
 "metadata": {
  "kernelspec": {
   "display_name": "Python 3",
   "language": "python",
   "name": "python3"
  },
  "language_info": {
   "codemirror_mode": {
    "name": "ipython",
    "version": 3
   },
   "file_extension": ".py",
   "mimetype": "text/x-python",
   "name": "python",
   "nbconvert_exporter": "python",
   "pygments_lexer": "ipython3",
   "version": "3.6.6"
  }
 },
 "nbformat": 4,
 "nbformat_minor": 2
}

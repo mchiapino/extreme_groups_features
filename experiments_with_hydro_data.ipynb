{
 "cells": [
  {
   "cell_type": "code",
   "execution_count": 1,
   "metadata": {},
   "outputs": [],
   "source": [
    "# Imports\n",
    "import numpy as np\n",
    "%matplotlib inline\n",
    "import matplotlib.pyplot as plt\n",
    "\n",
    "from sklearn.model_selection import train_test_split\n",
    "\n",
    "import logistic as lgtc\n",
    "import clef as clf\n",
    "import hill\n",
    "import damex as dmx\n",
    "import peng as pg\n",
    "import clef_asymptotic as clf_as\n",
    "import utilities as ut\n",
    "import hydro_map as hm"
   ]
  },
  {
   "cell_type": "markdown",
   "metadata": {},
   "source": [
    "# Load data"
   ]
  },
  {
   "cell_type": "code",
   "execution_count": 2,
   "metadata": {},
   "outputs": [],
   "source": [
    "X = np.load('data/hydro_data/raw_discharge.npy')\n",
    "V = ut.rank_transformation(X)\n",
    "n, dim = V.shape"
   ]
  },
  {
   "cell_type": "markdown",
   "metadata": {},
   "source": [
    "# Split train/test"
   ]
  },
  {
   "cell_type": "code",
   "execution_count": 3,
   "metadata": {},
   "outputs": [],
   "source": [
    "V_train, V_test = train_test_split(V, test_size=0.1, random_state=0)\n",
    "n_train, n_test = V_train.shape[0], V_test.shape[0]"
   ]
  },
  {
   "cell_type": "markdown",
   "metadata": {},
   "source": [
    "## Extreme points"
   ]
  },
  {
   "cell_type": "code",
   "execution_count": 4,
   "metadata": {},
   "outputs": [
    {
     "name": "stdout",
     "output_type": "stream",
     "text": [
      "nb extreme points train = 2414\n",
      "nb extreme points test = 260\n"
     ]
    }
   ],
   "source": [
    "R = 100\n",
    "V_train_bin = ut.above_radius_bin(V_train, R)\n",
    "print(f'nb extreme points train = {V_train_bin.shape[0]}')\n",
    "V_test_bin = ut.above_radius_bin(V_test, R)\n",
    "print(f'nb extreme points test = {V_test_bin.shape[0]}')"
   ]
  },
  {
   "cell_type": "markdown",
   "metadata": {},
   "source": [
    "# CLEF"
   ]
  },
  {
   "cell_type": "code",
   "execution_count": 5,
   "metadata": {},
   "outputs": [
    {
     "name": "stdout",
     "output_type": "stream",
     "text": [
      "face size : nb faces\n",
      "2 : 434\n",
      "3 : 1294\n",
      "4 : 2698\n",
      "5 : 3986\n",
      "6 : 4198\n",
      "7 : 3139\n",
      "8 : 1634\n",
      "9 : 565\n",
      "10 : 117\n",
      "nb maximal faces = 70\n",
      "average dist to clef faces = 0.6189829091157111\n"
     ]
    }
   ],
   "source": [
    "faces_clf = clf.clef(V_train, R, kappa_min=0.2)\n",
    "#hm.map_visualisation(faces_clf, dim)  # visualization of the groups of gauging stations on french map\n",
    "print(f'nb maximal faces = {len(faces_clf)}')\n",
    "print(f'average dist to clef faces = {ut.levenshtein_faces_radius(faces_clf, R, V_test)}')"
   ]
  },
  {
   "cell_type": "markdown",
   "metadata": {},
   "source": [
    "# Hill"
   ]
  },
  {
   "cell_type": "code",
   "execution_count": 6,
   "metadata": {},
   "outputs": [
    {
     "name": "stdout",
     "output_type": "stream",
     "text": [
      "face size : nb faces\n",
      "2 : 83\n",
      "3 : 13\n",
      "nb maximal faces: 64\n",
      "average dist to hill faces = 0.6999805697058546\n"
     ]
    }
   ],
   "source": [
    "k = int(n_train/R - 1)\n",
    "delta = 0.05\n",
    "faces_hill = hill.hill(V_train, delta, k)\n",
    "#hm.map_visualisation(faces_hill, dim)  # visualization of the groups of gauging stations on french map\n",
    "print('nb maximal faces:', len(faces_hill))\n",
    "print(f'average dist to hill faces = {ut.levenshtein_faces_radius(faces_hill, R, V_test)}')"
   ]
  },
  {
   "cell_type": "markdown",
   "metadata": {},
   "source": [
    "# DAMEX"
   ]
  },
  {
   "cell_type": "code",
   "execution_count": null,
   "metadata": {},
   "outputs": [],
   "source": [
    "eps = 0.3\n",
    "nb_min = 5\n",
    "faces_dmx = dmx.damex(V_train, R, eps, nb_min)\n",
    "#hm.map_visualisation(faces_dmx, dim)  # visualization of the groups of gauging stations on french map\n",
    "print(f'nb faces: {len(faces_dmx)}')\n",
    "print(f'average dist to damex faces = {ut.levenshtein_faces_radius(faces_dmx, R, V_test)}')"
   ]
  },
  {
   "cell_type": "markdown",
   "metadata": {},
   "source": [
    "# Peng"
   ]
  },
  {
   "cell_type": "code",
   "execution_count": null,
   "metadata": {},
   "outputs": [],
   "source": [
    "k = int(n_train/R - 1)\n",
    "delta_p = 0.3\n",
    "faces_peng = pg.peng(V_train, delta_p, k, rho_min=0.05)\n",
    "#hm.map_visualisation(faces_peng, dim)  # visualization of the groups of gauging stations on french map\n",
    "print(f'nb maximal faces: {len(faces_peng)}')\n",
    "print(f'average dist to peng faces = {ut.levenshtein_faces_radius(faces_peng, R, V_test)}')"
   ]
  },
  {
   "cell_type": "markdown",
   "metadata": {},
   "source": [
    "# CLEF asymptotic"
   ]
  },
  {
   "cell_type": "code",
   "execution_count": null,
   "metadata": {},
   "outputs": [],
   "source": [
    "kappa_as_min = 0.3\n",
    "delta_k = 0.05\n",
    "faces_clf_as = clf_as.clef_as(V_train, delta_k, k, kappa_as_min)\n",
    "#hm.map_visualisation(faces_clf_as, dim)  # visualization of the groups of gauging stations on french map\n",
    "print(f'nb maximal faces: {len(faces_clf_as)}')\n",
    "print(f'average dist to peng faces = {ut.levenshtein_faces_radius(faces_clf_as, R, V_test)}')"
   ]
  }
 ],
 "metadata": {
  "kernelspec": {
   "display_name": "Python 3",
   "language": "python",
   "name": "python3"
  },
  "language_info": {
   "codemirror_mode": {
    "name": "ipython",
    "version": 3
   },
   "file_extension": ".py",
   "mimetype": "text/x-python",
   "name": "python",
   "nbconvert_exporter": "python",
   "pygments_lexer": "ipython3",
   "version": "3.6.6"
  }
 },
 "nbformat": 4,
 "nbformat_minor": 2
}

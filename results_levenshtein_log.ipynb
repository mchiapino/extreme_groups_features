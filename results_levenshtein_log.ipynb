{
 "cells": [
  {
   "cell_type": "code",
   "execution_count": 3,
   "metadata": {},
   "outputs": [],
   "source": [
    "import numpy as np"
   ]
  },
  {
   "cell_type": "code",
   "execution_count": 10,
   "metadata": {},
   "outputs": [],
   "source": [
    "path_folder = 'saves/logistic/'\n",
    "id_ = '167'\n",
    "end_path = '_' + id_ + '.npy'"
   ]
  },
  {
   "cell_type": "code",
   "execution_count": 11,
   "metadata": {},
   "outputs": [],
   "source": [
    "dist_true_log = np.load(path_folder + 'dist_true' + end_path, encoding='latin1').item()\n",
    "dist_clef_log = np.load(path_folder + 'dist_clef' + end_path, encoding='latin1').item()\n",
    "nb_clef_log = np.load(path_folder + 'nb_clef' + end_path).item()\n",
    "dist_dmx_log = np.load(path_folder + 'dist_dmx' + end_path, encoding='latin1').item()\n",
    "nb_dmx_log = np.load(path_folder + 'nb_dmx' + end_path).item()\n",
    "dist_hill_log = np.load(path_folder + 'dist_hill' + end_path, encoding='latin1').item()\n",
    "nb_hill_log = np.load(path_folder + 'nb_hill' + end_path).item()\n",
    "dist_clef_as_log = np.load(path_folder + 'dist_clef_as' + end_path).item()\n",
    "nb_clef_as_log = np.load(path_folder + 'nb_clef_as' + end_path).item()\n",
    "dist_peng_log = np.load(path_folder + 'dist_peng' + end_path).item()\n",
    "nb_peng_log = np.load(path_folder + 'nb_peng' + end_path).item()\n",
    "params = np.load(path_folder + 'params_' + id_ + '.npy').item()"
   ]
  },
  {
   "cell_type": "code",
   "execution_count": 12,
   "metadata": {},
   "outputs": [
    {
     "data": {
      "text/plain": [
       "{'R': 200,\n",
       " 'kap_min': [0.1, 0.2, 0.25, 0.275, 0.3, 0.35],\n",
       " 'delta_hill': [0.001, 0.005, 0.01, 0.025, 0.05, 0.075, 0.1],\n",
       " 'eps_dmx': 0.3,\n",
       " 'mass_min': [0, 1, 2, 3, 5, 7, 10],\n",
       " 'delta_p': [0.01, 0.025, 0.05],\n",
       " 'var_max': 10,\n",
       " 'delta_k': [0.01, 0.025, 0.05],\n",
       " 'feats_min': 0}"
      ]
     },
     "execution_count": 12,
     "metadata": {},
     "output_type": "execute_result"
    }
   ],
   "source": [
    "params"
   ]
  },
  {
   "cell_type": "code",
   "execution_count": 26,
   "metadata": {},
   "outputs": [],
   "source": [
    "as_deps = [0.05, 0.1, 0.25, 0.5, 0.75]\n",
    "as_dep = as_deps[3]"
   ]
  },
  {
   "cell_type": "markdown",
   "metadata": {},
   "source": [
    "## Dist to true faces"
   ]
  },
  {
   "cell_type": "code",
   "execution_count": 27,
   "metadata": {},
   "outputs": [
    {
     "name": "stdout",
     "output_type": "stream",
     "text": [
      "0.4971872613404595\n",
      "0.008313000212418873\n"
     ]
    }
   ],
   "source": [
    "print(np.mean(dist_true_log[as_dep]))\n",
    "print(np.std(dist_true_log[as_dep]))"
   ]
  },
  {
   "cell_type": "markdown",
   "metadata": {},
   "source": [
    "## CLEF"
   ]
  },
  {
   "cell_type": "code",
   "execution_count": 28,
   "metadata": {},
   "outputs": [
    {
     "name": "stdout",
     "output_type": "stream",
     "text": [
      "kappa min: 0.1\n",
      "dist res: 0.5401481706506414 0.00968741248043885\n",
      "nb faces res: 81.7 2.570992026436488\n",
      "\n",
      "\n",
      "kappa min: 0.2\n",
      "dist res: 0.8369328089498111 0.008954265923579632\n",
      "nb faces res: 12.2 0.9797958971132711\n",
      "\n",
      "\n",
      "kappa min: 0.25\n",
      "dist res: 0.9127602456770131 0.012016733124380216\n",
      "nb faces res: 5.7 0.6403124237432849\n",
      "\n",
      "\n",
      "kappa min: 0.275\n",
      "dist res: 0.9192959136746417 0.006619018800951156\n",
      "nb faces res: 5.2 0.39999999999999997\n",
      "\n",
      "\n",
      "kappa min: 0.3\n",
      "dist res: 0.9354221051519686 0.005507278554682143\n",
      "nb faces res: 3.9 0.3\n",
      "\n",
      "\n",
      "kappa min: 0.35\n",
      "dist res: 0.9452946207574596 0.0049064424919578855\n",
      "nb faces res: 3.0 0.0\n",
      "\n",
      "\n"
     ]
    }
   ],
   "source": [
    "for kap in params['kap_min']:\n",
    "    print('kappa min:', kap)\n",
    "    print('dist res:', np.mean(dist_clef_log[as_dep][kap]), np.std(dist_clef_log[as_dep][kap]))\n",
    "    print('nb faces res:', np.mean(nb_clef_log[as_dep][kap]), np.std(nb_clef_log[as_dep][kap]))\n",
    "    print('\\n')"
   ]
  },
  {
   "cell_type": "markdown",
   "metadata": {},
   "source": [
    "## Hill"
   ]
  },
  {
   "cell_type": "code",
   "execution_count": 85,
   "metadata": {},
   "outputs": [
    {
     "name": "stdout",
     "output_type": "stream",
     "text": [
      "delta: 0.001\n",
      "dist res: 0.4891891489414423 0.006243659644177927\n",
      "nb faces res: 85.6 1.7435595774162693\n",
      "\n",
      "\n",
      "delta: 0.005\n",
      "dist res: 0.49224561786697063 0.00761788892165807\n",
      "nb faces res: 90.5 3.2015621187164243\n",
      "\n",
      "\n",
      "delta: 0.01\n",
      "dist res: 0.49257877361005675 0.008247031283839367\n",
      "nb faces res: 95.3 2.865309756378881\n",
      "\n",
      "\n",
      "delta: 0.025\n",
      "dist res: 0.49297077646593745 0.009667592063946743\n",
      "nb faces res: 107.7 3.874274125562103\n",
      "\n",
      "\n",
      "delta: 0.05\n",
      "dist res: 0.49703694391791703 0.010948457677315686\n",
      "nb faces res: 111.9 5.48543526076099\n",
      "\n",
      "\n",
      "delta: 0.075\n",
      "dist res: 0.5022924352717946 0.014679050617176942\n",
      "nb faces res: 110.0 4.404543109109048\n",
      "\n",
      "\n",
      "delta: 0.1\n",
      "dist res: 0.5108356168860935 0.015005195731164789\n",
      "nb faces res: 107.0 3.3466401061363023\n",
      "\n",
      "\n"
     ]
    }
   ],
   "source": [
    "for delta in params['delta_hill']:\n",
    "    print('delta:', delta)\n",
    "    print('dist res:', np.mean(dist_hill_log[as_dep][delta]), np.std(dist_hill_log[as_dep][delta]))\n",
    "    print('nb faces res:', np.mean(nb_hill_log[as_dep][delta]), np.std(nb_hill_log[as_dep][delta]))\n",
    "    print('\\n')"
   ]
  },
  {
   "cell_type": "markdown",
   "metadata": {},
   "source": [
    "## DAMEX"
   ]
  },
  {
   "cell_type": "code",
   "execution_count": 86,
   "metadata": {},
   "outputs": [
    {
     "name": "stdout",
     "output_type": "stream",
     "text": [
      "mass min: 0\n",
      "dist res: 0.33956108058020557 0.006103838791868085\n",
      "nb faces res: 2598.9 8.595929269136642\n",
      "\n",
      "\n",
      "mass min: 1\n",
      "dist res: 0.3854647778111985 0.005469644556486384\n",
      "nb faces res: 223.8 2.9597297173897483\n",
      "\n",
      "\n",
      "mass min: 2\n",
      "dist res: 0.4276998084311211 0.012027230796579368\n",
      "nb faces res: 121.4 2.2449944320643644\n",
      "\n",
      "\n",
      "mass min: 3\n",
      "dist res: 0.45128870626869266 0.007766828898036042\n",
      "nb faces res: 100.8 1.9899748742132397\n",
      "\n",
      "\n",
      "mass min: 5\n",
      "dist res: 0.4843040655439843 0.00826399138820109\n",
      "nb faces res: 84.0 0.8944271909999159\n",
      "\n",
      "\n",
      "mass min: 7\n",
      "dist res: 0.532760410701272 0.012813546017358585\n",
      "nb faces res: 66.4 1.624807680927192\n",
      "\n",
      "\n",
      "mass min: 10\n",
      "dist res: 0.6151295321727847 0.012497073023948587\n",
      "nb faces res: 43.7 1.5524174696260025\n",
      "\n",
      "\n"
     ]
    }
   ],
   "source": [
    "for mass_min in params['mass_min']:\n",
    "    print('mass min:', mass_min)\n",
    "    print('dist res:', np.mean(dist_dmx_log[as_dep][mass_min]), np.std(dist_dmx_log[as_dep][mass_min]))\n",
    "    print('nb faces res:', np.mean(nb_dmx_log[as_dep][mass_min]), np.std(nb_dmx_log[as_dep][mass_min]))\n",
    "    print('\\n')"
   ]
  },
  {
   "cell_type": "markdown",
   "metadata": {},
   "source": [
    "## Peng"
   ]
  },
  {
   "cell_type": "code",
   "execution_count": 29,
   "metadata": {},
   "outputs": [
    {
     "name": "stdout",
     "output_type": "stream",
     "text": [
      "delta: 0.01\n",
      "dist res: 0.48251446722653624 0.008037581217396563\n",
      "nb faces res: 144.2 6.063002556489647\n",
      "\n",
      "\n",
      "delta: 0.025\n",
      "dist res: 0.48251446722653624 0.008037581217396563\n",
      "nb faces res: 144.2 6.063002556489647\n",
      "\n",
      "\n",
      "delta: 0.05\n",
      "dist res: 0.4827099185413905 0.008167843100035927\n",
      "nb faces res: 144.3 6.132699242584786\n",
      "\n",
      "\n"
     ]
    }
   ],
   "source": [
    "for delta in params['delta_p']:\n",
    "    print('delta:', delta)\n",
    "    print('dist res:', np.mean(dist_peng_log[as_dep][delta]), np.std(dist_peng_log[as_dep][delta]))\n",
    "    print('nb faces res:', np.mean(nb_peng_log[as_dep][delta]), np.std(nb_peng_log[as_dep][delta]))\n",
    "    print('\\n')"
   ]
  },
  {
   "cell_type": "markdown",
   "metadata": {},
   "source": [
    "## CLEF asymptotic"
   ]
  },
  {
   "cell_type": "code",
   "execution_count": 30,
   "metadata": {},
   "outputs": [
    {
     "name": "stdout",
     "output_type": "stream",
     "text": [
      "delta: 0.01\n",
      "dist res: 0.4712377841264851 0.007015268112605756\n",
      "nb faces res: 518.9 23.43266950221421\n",
      "\n",
      "\n",
      "delta: 0.025\n",
      "dist res: 0.4813266858245081 0.006953030284819772\n",
      "nb faces res: 503.3 21.605786262017865\n",
      "\n",
      "\n",
      "delta: 0.05\n",
      "dist res: 0.48174378970339127 0.007550706123194584\n",
      "nb faces res: 500.6 21.308214378497322\n",
      "\n",
      "\n"
     ]
    }
   ],
   "source": [
    "for delta in params['delta_k']:\n",
    "    print('delta:', delta)\n",
    "    print('dist res:', np.mean(dist_clef_as_log[as_dep][delta]), np.std(dist_clef_as_log[as_dep][delta]))\n",
    "    print('nb faces res:', np.mean(nb_clef_as_log[as_dep][delta]), np.std(nb_clef_as_log[as_dep][delta]))\n",
    "    print('\\n')"
   ]
  }
 ],
 "metadata": {
  "kernelspec": {
   "display_name": "Python 3",
   "language": "python",
   "name": "python3"
  },
  "language_info": {
   "codemirror_mode": {
    "name": "ipython",
    "version": 3
   },
   "file_extension": ".py",
   "mimetype": "text/x-python",
   "name": "python",
   "nbconvert_exporter": "python",
   "pygments_lexer": "ipython3",
   "version": "3.6.6"
  }
 },
 "nbformat": 4,
 "nbformat_minor": 2
}
